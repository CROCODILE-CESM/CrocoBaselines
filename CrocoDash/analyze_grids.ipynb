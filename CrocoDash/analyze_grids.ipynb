{
 "cells": [
  {
   "cell_type": "code",
   "execution_count": 1,
   "metadata": {},
   "outputs": [],
   "source": [
    "import xarray as xr \n",
    "from pathlib import Path\n",
    "import numpy as np"
   ]
  },
  {
   "cell_type": "code",
   "execution_count": 3,
   "id": "32a50c81",
   "metadata": {},
   "outputs": [],
   "source": [
    "old_grid_dir = Path(\"default_m6b_with_bathy\")\n",
    "new_grid_dir = Path(\"new_m6b_with_bathy\")\n",
    "def analyze_grid(old_ds, new_ds):\n",
    "    print(\"Area\",np.where(~np.isclose(old_ds.area, new_ds.area, rtol=1e-12, atol=0)))\n",
    "    print(\"Angle Dx\",np.where(~np.isclose(old_ds.angle_dx, new_ds.angle_dx, rtol=1e-12, atol=0)))\n",
    "    print(\"Longitude\",np.where(~np.isclose(old_ds.x, new_ds.x, rtol=1e-12, atol=0)))\n",
    "    print(\"Latitude\",np.where(~np.isclose(old_ds.y, new_ds.y, rtol=1e-12, atol=0)))\n",
    "    print(\"Longitude\",np.where(~np.isclose(old_ds.dx, new_ds.dx, rtol=1e-12, atol=0)))\n",
    "    print(\"Latitude\",np.where(~np.isclose(old_ds.dy, new_ds.dy, rtol=1e-12, atol=0)))\n",
    "\n",
    "def analyze_bathy(old_ds, new_ds):\n",
    "    print(\"Depth\",np.where(~np.isclose(old_ds.depth, new_ds.depth, rtol=1e-12, atol=0)))\n",
    "    print(\"Mask\",np.where(old_ds.mask != new_ds.mask))\n",
    "\n"
   ]
  },
  {
   "cell_type": "code",
   "execution_count": 5,
   "id": "d3b00898",
   "metadata": {},
   "outputs": [
    {
     "name": "stdout",
     "output_type": "stream",
     "text": [
      "Area (array([], dtype=int64), array([], dtype=int64))\n",
      "Angle Dx (array([], dtype=int64), array([], dtype=int64))\n",
      "Longitude (array([], dtype=int64), array([], dtype=int64))\n",
      "Latitude (array([], dtype=int64), array([], dtype=int64))\n",
      "Longitude (array([], dtype=int64), array([], dtype=int64))\n",
      "Latitude (array([], dtype=int64), array([], dtype=int64))\n",
      "Depth (array([], dtype=int64), array([], dtype=int64))\n",
      "Mask (array([], dtype=int64), array([], dtype=int64))\n"
     ]
    }
   ],
   "source": [
    "grid_name = \"north_hem_basic.nc\"\n",
    "old_ds = xr.open_dataset(old_grid_dir / grid_name)\n",
    "new_ds = xr.open_dataset(new_grid_dir / grid_name)\n",
    "analyze_grid(old_ds, new_ds)\n",
    "bathy_name = \"north_hem_basic_bathy.nc\"\n",
    "old_bathy_ds = xr.open_dataset(old_grid_dir / bathy_name)\n",
    "new_bathy_ds = xr.open_dataset(new_grid_dir / bathy_name)\n",
    "analyze_bathy(old_bathy_ds, new_bathy_ds)"
   ]
  },
  {
   "cell_type": "code",
   "execution_count": 6,
   "id": "32edd91d",
   "metadata": {},
   "outputs": [
    {
     "name": "stdout",
     "output_type": "stream",
     "text": [
      "Area (array([], dtype=int64), array([], dtype=int64))\n",
      "Angle Dx (array([], dtype=int64), array([], dtype=int64))\n",
      "Longitude (array([], dtype=int64), array([], dtype=int64))\n",
      "Latitude (array([], dtype=int64), array([], dtype=int64))\n",
      "Longitude (array([], dtype=int64), array([], dtype=int64))\n",
      "Latitude (array([], dtype=int64), array([], dtype=int64))\n",
      "Depth (array([20, 21]), array([117, 118]))\n",
      "Mask (array([], dtype=int64), array([], dtype=int64))\n"
     ]
    }
   ],
   "source": [
    "grid_name = \"south_long_seam.nc\"\n",
    "old_ds = xr.open_dataset(old_grid_dir / grid_name)\n",
    "new_ds = xr.open_dataset(new_grid_dir / grid_name)\n",
    "analyze_grid(old_ds, new_ds)\n",
    "bathy_name = \"south_long_seam_bathy.nc\"\n",
    "old_bathy_ds = xr.open_dataset(old_grid_dir / bathy_name)\n",
    "new_bathy_ds = xr.open_dataset(new_grid_dir / bathy_name)\n",
    "analyze_bathy(old_bathy_ds, new_bathy_ds)"
   ]
  },
  {
   "cell_type": "code",
   "execution_count": 7,
   "id": "7be18a73",
   "metadata": {},
   "outputs": [
    {
     "name": "stdout",
     "output_type": "stream",
     "text": [
      "Area (array([], dtype=int64), array([], dtype=int64))\n",
      "Angle Dx (array([], dtype=int64), array([], dtype=int64))\n",
      "Longitude (array([], dtype=int64), array([], dtype=int64))\n",
      "Latitude (array([], dtype=int64), array([], dtype=int64))\n",
      "Longitude (array([], dtype=int64), array([], dtype=int64))\n",
      "Latitude (array([], dtype=int64), array([], dtype=int64))\n",
      "Depth (array([], dtype=int64), array([], dtype=int64))\n",
      "Mask (array([], dtype=int64), array([], dtype=int64))\n"
     ]
    }
   ],
   "source": [
    "grid_name = \"south_prime_seam.nc\"\n",
    "old_ds = xr.open_dataset(old_grid_dir / grid_name)\n",
    "new_ds = xr.open_dataset(new_grid_dir / grid_name)\n",
    "\n",
    "analyze_grid(old_ds, new_ds)\n",
    "bathy_name = \"south_prime_seam_bathy.nc\"\n",
    "old_bathy_ds = xr.open_dataset(old_grid_dir / bathy_name)\n",
    "new_bathy_ds = xr.open_dataset(new_grid_dir / bathy_name)\n",
    "analyze_bathy(old_bathy_ds, new_bathy_ds)"
   ]
  }
 ],
 "metadata": {
  "kernelspec": {
   "display_name": "Python 3",
   "language": "python",
   "name": "python3"
  },
  "language_info": {
   "codemirror_mode": {
    "name": "ipython",
    "version": 3
   },
   "file_extension": ".py",
   "mimetype": "text/x-python",
   "name": "python",
   "nbconvert_exporter": "python",
   "pygments_lexer": "ipython3",
   "version": "3.12.9"
  }
 },
 "nbformat": 4,
 "nbformat_minor": 5
}
